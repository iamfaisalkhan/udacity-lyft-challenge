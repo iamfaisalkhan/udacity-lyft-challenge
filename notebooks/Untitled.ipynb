{
 "cells": [
  {
   "cell_type": "code",
   "execution_count": 31,
   "metadata": {},
   "outputs": [],
   "source": [
    "import keras\n",
    "from keras.layers import *\n",
    "from keras.models import *"
   ]
  },
  {
   "cell_type": "code",
   "execution_count": 32,
   "metadata": {},
   "outputs": [],
   "source": [
    "def add_layer(input_shape, kernel_size, filters, count):\n",
    "    x = Input(input_shape)\n",
    "    x = Conv2D(filters, (kernel_size, kernel_size), padding = 'same', activation= None)(x)\n",
    "    x = BatchNormalization()(x) \n",
    "    x = Activation('relu')(x)\n",
    "    x = Conv2D(filters, (kernel_size, kernel_size), padding = 'same', activation= None)(x)\n",
    "    x = BatchNormalization()(x) \n",
    "    x = Activation('relu')(x)\n",
    "    return keras.layers.add([x,Input(input_shape)])\n"
   ]
  },
  {
   "cell_type": "code",
   "execution_count": 45,
   "metadata": {},
   "outputs": [
    {
     "name": "stdout",
     "output_type": "stream",
     "text": [
      "(?, 3, 132, 64)\n",
      "Tensor(\"add_4/add:0\", shape=(?, 3, 132, 64), dtype=float32)\n"
     ]
    }
   ],
   "source": [
    "x = Input(shape = (6,264,264))\n",
    "y = Conv2D(64, (7, 7), padding='same', activation='relu')(x)\n",
    "y = MaxPooling2D((2,2))(y)\n",
    "print (y.shape)\n",
    "y = add_layer((3, 132, 64), 3, 64, 3)\n",
    "\n",
    "print (y)"
   ]
  },
  {
   "cell_type": "code",
   "execution_count": null,
   "metadata": {},
   "outputs": [],
   "source": []
  }
 ],
 "metadata": {
  "kernelspec": {
   "display_name": "Python [conda env:ai]",
   "language": "python",
   "name": "conda-env-ai-py"
  },
  "language_info": {
   "codemirror_mode": {
    "name": "ipython",
    "version": 3
   },
   "file_extension": ".py",
   "mimetype": "text/x-python",
   "name": "python",
   "nbconvert_exporter": "python",
   "pygments_lexer": "ipython3",
   "version": "3.6.4"
  }
 },
 "nbformat": 4,
 "nbformat_minor": 2
}
