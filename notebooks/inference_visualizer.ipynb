{
 "cells": [
  {
   "cell_type": "code",
   "execution_count": 1,
   "metadata": {},
   "outputs": [],
   "source": [
    "import sys\n",
    "sys.path.append('../')\n",
    "\n",
    "%load_ext autoreload\n",
    "%autoreload 2\n",
    "%matplotlib inline\n"
   ]
  },
  {
   "cell_type": "code",
   "execution_count": 10,
   "metadata": {},
   "outputs": [],
   "source": [
    "import numpy as np\n",
    "\n",
    "import matplotlib.image as mpimg\n",
    "import matplotlib.pyplot as plt\n",
    "\n",
    "import cv2\n",
    "from skimage.io import imread\n",
    "\n",
    "from gen.load_data import load_data\n",
    "from keras.models import Model, load_model\n"
   ]
  },
  {
   "cell_type": "code",
   "execution_count": 4,
   "metadata": {},
   "outputs": [],
   "source": [
    "train_df, valid_df, test_df = load_data('../data')"
   ]
  },
  {
   "cell_type": "code",
   "execution_count": 9,
   "metadata": {},
   "outputs": [
    {
     "name": "stderr",
     "output_type": "stream",
     "text": [
      "/home/faisal/anaconda3/envs/ai/lib/python3.6/site-packages/keras/models.py:255: UserWarning: No training configuration found in save file: the model was *not* compiled. Compile it manually.\n",
      "  warnings.warn('No training configuration found in save file: '\n"
     ]
    }
   ],
   "source": [
    "model = load_model('../saved_models/fcn8_extended/model.hdf5')"
   ]
  },
  {
   "cell_type": "code",
   "execution_count": null,
   "metadata": {},
   "outputs": [],
   "source": [
    "sample_rows = 12\n",
    "fig, m_axs = plt.subplots(sample_rows, 3, figsize = (20, 6*sample_rows))\n",
    "for (ax1, ax2, ax3), (_, c_row) in zip(m_axs, tes_df.sample(sample_rows).iterrows()):\n",
    "    c_img = imread(c_row['image'])\n",
    "    p_img = model.predict(cv2.resize())\n",
    "    l_img = imread(c_row['label'])\n",
    "    l_img = l_img[:500, :, 0]\n",
    "    \n",
    "    lbls = np.zeros_like(l_img)\n",
    "    lbls[l_img == 10] = 1\n",
    "    lbls[l_img == 7] = 2\n",
    "    \n",
    "    ax1.imshow(c_img)\n",
    "    ax1.set_title('Color')    \n",
    "    ax2.imshow(c_img2)\n",
    "    ax2.set_title('Cars')\n",
    "    ax3.imshow(l_img)\n",
    "    ax3.set_title('Road')"
   ]
  }
 ],
 "metadata": {
  "kernelspec": {
   "display_name": "Python [conda env:ai]",
   "language": "python",
   "name": "conda-env-ai-py"
  },
  "language_info": {
   "codemirror_mode": {
    "name": "ipython",
    "version": 3
   },
   "file_extension": ".py",
   "mimetype": "text/x-python",
   "name": "python",
   "nbconvert_exporter": "python",
   "pygments_lexer": "ipython3",
   "version": "3.6.4"
  }
 },
 "nbformat": 4,
 "nbformat_minor": 2
}
