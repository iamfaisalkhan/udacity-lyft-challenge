{
 "cells": [
  {
   "cell_type": "code",
   "execution_count": 1,
   "metadata": {
    "scrolled": true
   },
   "outputs": [],
   "source": [
    "import sys\n",
    "sys.path.append('../')\n",
    "\n",
    "%load_ext autoreload\n",
    "%autoreload 2\n",
    "%matplotlib inline\n"
   ]
  },
  {
   "cell_type": "code",
   "execution_count": 2,
   "metadata": {
    "scrolled": true
   },
   "outputs": [],
   "source": [
    "import numpy as np\n",
    "\n",
    "import matplotlib.image as mpimg\n",
    "import matplotlib.pyplot as plt\n",
    "\n",
    "from skimage.io import imread\n",
    "\n",
    "from gen.load_data import load_data"
   ]
  },
  {
   "cell_type": "code",
   "execution_count": 3,
   "metadata": {
    "scrolled": true
   },
   "outputs": [
    {
     "name": "stdout",
     "output_type": "stream",
     "text": [
      "                                                image                   id  \\\n",
      "364   ../data/Train/CameraRGB/episode_0002_000064.png  episode_0002_000064   \n",
      "1189                  ../data/Train/CameraRGB/624.png                  624   \n",
      "1941                  ../data/Train/CameraRGB/456.png                  456   \n",
      "1775                  ../data/Train/CameraRGB/759.png                  759   \n",
      "930                   ../data/Train/CameraRGB/232.png                  232   \n",
      "\n",
      "                                                label  \n",
      "364   ../data/Train/CameraSeg/episode_0002_000064.png  \n",
      "1189                  ../data/Train/CameraSeg/624.png  \n",
      "1941                  ../data/Train/CameraSeg/456.png  \n",
      "1775                  ../data/Train/CameraSeg/759.png  \n",
      "930                   ../data/Train/CameraSeg/232.png  \n"
     ]
    }
   ],
   "source": [
    "from sklearn.utils import shuffle\n",
    "\n",
    "train_df, valid_df, test_df = load_data('../data')\n",
    "\n",
    "train_df = shuffle(train_df)\n",
    "valid_df = shuffle(valid_df)\n",
    "\n",
    "print(train_df.head())\n"
   ]
  },
  {
   "cell_type": "code",
   "execution_count": 6,
   "metadata": {
    "scrolled": false
   },
   "outputs": [
    {
     "name": "stdout",
     "output_type": "stream",
     "text": [
      "__________________________________________________________________________________________________\n",
      "Layer (type)                    Output Shape         Param #     Connected to                     \n",
      "==================================================================================================\n",
      "input_2 (InputLayer)            (None, 384, 384, 3)  0                                            \n",
      "__________________________________________________________________________________________________\n",
      "block1_conv1 (Conv2D)           (None, 384, 384, 64) 1792        input_2[0][0]                    \n",
      "__________________________________________________________________________________________________\n",
      "block1_conv2 (Conv2D)           (None, 384, 384, 64) 36928       block1_conv1[0][0]               \n",
      "__________________________________________________________________________________________________\n",
      "block1_pool (MaxPooling2D)      (None, 192, 192, 64) 0           block1_conv2[0][0]               \n",
      "__________________________________________________________________________________________________\n",
      "block2_conv1 (Conv2D)           (None, 192, 192, 128 73856       block1_pool[0][0]                \n",
      "__________________________________________________________________________________________________\n",
      "block2_conv2 (Conv2D)           (None, 192, 192, 128 147584      block2_conv1[0][0]               \n",
      "__________________________________________________________________________________________________\n",
      "block2_pool (MaxPooling2D)      (None, 96, 96, 128)  0           block2_conv2[0][0]               \n",
      "__________________________________________________________________________________________________\n",
      "block3_conv1 (Conv2D)           (None, 96, 96, 256)  295168      block2_pool[0][0]                \n",
      "__________________________________________________________________________________________________\n",
      "block3_conv2 (Conv2D)           (None, 96, 96, 256)  590080      block3_conv1[0][0]               \n",
      "__________________________________________________________________________________________________\n",
      "block3_conv3 (Conv2D)           (None, 96, 96, 256)  590080      block3_conv2[0][0]               \n",
      "__________________________________________________________________________________________________\n",
      "block3_pool (MaxPooling2D)      (None, 48, 48, 256)  0           block3_conv3[0][0]               \n",
      "__________________________________________________________________________________________________\n",
      "block4_conv1 (Conv2D)           (None, 48, 48, 512)  1180160     block3_pool[0][0]                \n",
      "__________________________________________________________________________________________________\n",
      "block4_conv2 (Conv2D)           (None, 48, 48, 512)  2359808     block4_conv1[0][0]               \n",
      "__________________________________________________________________________________________________\n",
      "block4_conv3 (Conv2D)           (None, 48, 48, 512)  2359808     block4_conv2[0][0]               \n",
      "__________________________________________________________________________________________________\n",
      "block4_pool (MaxPooling2D)      (None, 24, 24, 512)  0           block4_conv3[0][0]               \n",
      "__________________________________________________________________________________________________\n",
      "block5_conv1 (Conv2D)           (None, 24, 24, 512)  2359808     block4_pool[0][0]                \n",
      "__________________________________________________________________________________________________\n",
      "block5_conv2 (Conv2D)           (None, 24, 24, 512)  2359808     block5_conv1[0][0]               \n",
      "__________________________________________________________________________________________________\n",
      "block5_conv3 (Conv2D)           (None, 24, 24, 512)  2359808     block5_conv2[0][0]               \n",
      "__________________________________________________________________________________________________\n",
      "block5_pool (MaxPooling2D)      (None, 12, 12, 512)  0           block5_conv3[0][0]               \n",
      "__________________________________________________________________________________________________\n",
      "block6_conv1 (Conv2D)           (None, 12, 12, 4096) 102764544   block5_pool[0][0]                \n",
      "__________________________________________________________________________________________________\n",
      "block6_dropout1 (Dropout)       (None, 12, 12, 4096) 0           block6_conv1[0][0]               \n",
      "__________________________________________________________________________________________________\n",
      "block6_conv2 (Conv2D)           (None, 12, 12, 4096) 16781312    block6_dropout1[0][0]            \n",
      "__________________________________________________________________________________________________\n",
      "block6_dropout2 (Dropout)       (None, 12, 12, 4096) 0           block6_conv2[0][0]               \n",
      "__________________________________________________________________________________________________\n",
      "block6_conv3 (Conv2D)           (None, 12, 12, 3)    12291       block6_dropout2[0][0]            \n",
      "__________________________________________________________________________________________________\n",
      "block6_deconv1 (Conv2DTranspose (None, 24, 24, 3)    144         block6_conv3[0][0]               \n",
      "__________________________________________________________________________________________________\n",
      "block7_conv1 (Conv2D)           (None, 24, 24, 3)    1539        block4_pool[0][0]                \n",
      "__________________________________________________________________________________________________\n",
      "block7_Add (Add)                (None, 24, 24, 3)    0           block6_deconv1[0][0]             \n",
      "                                                                 block7_conv1[0][0]               \n",
      "__________________________________________________________________________________________________\n",
      "conv2d_transpose_2 (Conv2DTrans (None, 48, 48, 3)    147         block7_Add[0][0]                 \n",
      "__________________________________________________________________________________________________\n",
      "block8_conv1 (Conv2D)           (None, 48, 48, 3)    771         block3_pool[0][0]                \n",
      "__________________________________________________________________________________________________\n",
      "block8_Add (Add)                (None, 48, 48, 3)    0           conv2d_transpose_2[0][0]         \n",
      "                                                                 block8_conv1[0][0]               \n",
      "__________________________________________________________________________________________________\n",
      "block8_Deconv (Conv2DTranspose) (None, 384, 384, 3)  2307        block8_Add[0][0]                 \n",
      "__________________________________________________________________________________________________\n",
      "y_ (Activation)                 (None, 384, 384, 3)  0           block8_Deconv[0][0]              \n",
      "==================================================================================================\n",
      "Total params: 134,277,743\n",
      "Trainable params: 119,563,055\n",
      "Non-trainable params: 14,714,688\n",
      "__________________________________________________________________________________________________\n"
     ]
    }
   ],
   "source": [
    "from models.fcn8 import model_fcn8\n",
    "\n",
    "model = model_fcn8(3, image_shape=(384, 384, 3), keep_prob=0.7)\n",
    "model.summary()"
   ]
  },
  {
   "cell_type": "code",
   "execution_count": 5,
   "metadata": {
    "scrolled": true
   },
   "outputs": [],
   "source": [
    "from gen.generators import train_and_lab_gen_func\n",
    "\n",
    "BATCH_SIZE = 16\n",
    "\n",
    "train_gen = train_and_lab_gen_func(train_df, image_size=(600, 800), target_size=(480, 480), batch_size = BATCH_SIZE)\n",
    "valid_gen = train_and_lab_gen_func(valid_df, image_size=(600, 800), target_size=(480, 480), batch_size = BATCH_SIZE)\n",
    "# test_gen = train_and_lab_gen_func(test_df, image_size=(600, 800),  target_size=(480, 480),  batch_size = BATCH_SIZE)"
   ]
  },
  {
   "cell_type": "code",
   "execution_count": null,
   "metadata": {
    "scrolled": false
   },
   "outputs": [],
   "source": [
    "from train import train_nn\n",
    "\n",
    "m = train_df.shape[0]\n",
    "history = train_nn(model, \n",
    "                   train_gen, \n",
    "                   valid_gen, \n",
    "                   training_size=m, \n",
    "                   batch_size=BATCH_SIZE,\n",
    "                   validation_size=valid_df.shape[0],\n",
    "                   output_path='../saved_models/fcn8_extended_v2', \n",
    "                   epochs=100,\n",
    "                  gpus = 2)"
   ]
  },
  {
   "cell_type": "code",
   "execution_count": null,
   "metadata": {
    "scrolled": true
   },
   "outputs": [],
   "source": [
    "# # summarize history for accuracy\n",
    "plt.plot(history.history['acc'])\n",
    "plt.plot(history.history['val_acc'])\n",
    "plt.title('model accuracy')\n",
    "plt.ylabel('accuracy')\n",
    "plt.xlabel('epoch')\n",
    "plt.legend(['train', 'test'], loc='upper left')\n",
    "plt.show()\n",
    "# summarize history for loss\n",
    "plt.plot(history.history['loss'])\n",
    "plt.plot(history.history['val_loss'])\n",
    "plt.title('model loss')\n",
    "plt.ylabel('loss')\n",
    "plt.xlabel('epoch')\n",
    "plt.legend(['train', 'test'], loc='upper left')\n",
    "plt.show()"
   ]
  },
  {
   "cell_type": "code",
   "execution_count": null,
   "metadata": {},
   "outputs": [],
   "source": [
    "model.save('../saved_models/fcn8_extended_v2/model_saved.h5')"
   ]
  },
  {
   "cell_type": "code",
   "execution_count": null,
   "metadata": {},
   "outputs": [],
   "source": [
    "#valid_gen = train_and_lab_gen_func(valid_df, image_size=(600, 800), target_size=(480, 480), batch_size = BATCH_SIZE * gpus)\n",
    "#test_gen = train_and_lab_gen_func(test_df, image_size=(600, 800),  target_size=(480, 480),  batch_size = BATCH_SIZE * gpus)"
   ]
  }
 ],
 "metadata": {
  "kernelspec": {
   "display_name": "Python [conda env:ai]",
   "language": "python",
   "name": "conda-env-ai-py"
  },
  "language_info": {
   "codemirror_mode": {
    "name": "ipython",
    "version": 3
   },
   "file_extension": ".py",
   "mimetype": "text/x-python",
   "name": "python",
   "nbconvert_exporter": "python",
   "pygments_lexer": "ipython3",
   "version": "3.6.4"
  }
 },
 "nbformat": 4,
 "nbformat_minor": 2
}
