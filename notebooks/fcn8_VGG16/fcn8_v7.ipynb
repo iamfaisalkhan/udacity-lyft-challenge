{
 "cells": [
  {
   "cell_type": "code",
   "execution_count": 2,
   "metadata": {
    "scrolled": true
   },
   "outputs": [
    {
     "name": "stdout",
     "output_type": "stream",
     "text": [
      "The autoreload extension is already loaded. To reload it, use:\n",
      "  %reload_ext autoreload\n"
     ]
    }
   ],
   "source": [
    "import sys\n",
    "import os\n",
    "sys.path.append('../../')\n",
    "\n",
    "%load_ext autoreload\n",
    "%autoreload 2\n",
    "%matplotlib inline\n"
   ]
  },
  {
   "cell_type": "code",
   "execution_count": 3,
   "metadata": {
    "scrolled": true
   },
   "outputs": [],
   "source": [
    "import numpy as np\n",
    "\n",
    "import matplotlib.image as mpimg\n",
    "import matplotlib.pyplot as plt\n",
    "\n",
    "from skimage.io import imread\n",
    "\n",
    "from gen.load_data import load_data"
   ]
  },
  {
   "cell_type": "code",
   "execution_count": 4,
   "metadata": {
    "scrolled": true
   },
   "outputs": [
    {
     "name": "stdout",
     "output_type": "stream",
     "text": [
      "                                                  image                   id  \\\n",
      "1353  ../../data/Train/CameraRGB/episode_0012_000295...  episode_0012_000295   \n",
      "124   ../../data/Train/CameraRGB/episode_0008_000219...  episode_0008_000219   \n",
      "3538  ../../data/Train/CameraRGB/episode_0009_000125...  episode_0009_000125   \n",
      "17    ../../data/Train/CameraRGB/episode_0009_000284...  episode_0009_000284   \n",
      "139                   ../../data/Train/CameraRGB/50.png                   50   \n",
      "\n",
      "                                                  label  \n",
      "1353  ../../data/Train/CameraSeg/episode_0012_000295...  \n",
      "124   ../../data/Train/CameraSeg/episode_0008_000219...  \n",
      "3538  ../../data/Train/CameraSeg/episode_0009_000125...  \n",
      "17    ../../data/Train/CameraSeg/episode_0009_000284...  \n",
      "139                   ../../data/Train/CameraSeg/50.png  \n"
     ]
    }
   ],
   "source": [
    "from sklearn.utils import shuffle\n",
    "\n",
    "train_df, valid_df, test_df = load_data('../../data')\n",
    "\n",
    "train_df = shuffle(train_df)\n",
    "valid_df = shuffle(valid_df)\n",
    "\n",
    "print(train_df.head())\n"
   ]
  },
  {
   "cell_type": "code",
   "execution_count": 5,
   "metadata": {
    "scrolled": false
   },
   "outputs": [
    {
     "name": "stderr",
     "output_type": "stream",
     "text": [
      "/home/faisal/anaconda3/envs/ai/lib/python3.6/site-packages/h5py/__init__.py:36: FutureWarning: Conversion of the second argument of issubdtype from `float` to `np.floating` is deprecated. In future, it will be treated as `np.float64 == np.dtype(float).type`.\n",
      "  from ._conv import register_converters as _register_converters\n",
      "Using TensorFlow backend.\n"
     ]
    },
    {
     "name": "stdout",
     "output_type": "stream",
     "text": [
      "__________________________________________________________________________________________________\n",
      "Layer (type)                    Output Shape         Param #     Connected to                     \n",
      "==================================================================================================\n",
      "input_1 (InputLayer)            (None, 384, 384, 3)  0                                            \n",
      "__________________________________________________________________________________________________\n",
      "block1_conv1 (Conv2D)           (None, 384, 384, 64) 1792        input_1[0][0]                    \n",
      "__________________________________________________________________________________________________\n",
      "block1_conv2 (Conv2D)           (None, 384, 384, 64) 36928       block1_conv1[0][0]               \n",
      "__________________________________________________________________________________________________\n",
      "block1_pool (MaxPooling2D)      (None, 192, 192, 64) 0           block1_conv2[0][0]               \n",
      "__________________________________________________________________________________________________\n",
      "block2_conv1 (Conv2D)           (None, 192, 192, 128 73856       block1_pool[0][0]                \n",
      "__________________________________________________________________________________________________\n",
      "block2_conv2 (Conv2D)           (None, 192, 192, 128 147584      block2_conv1[0][0]               \n",
      "__________________________________________________________________________________________________\n",
      "block2_pool (MaxPooling2D)      (None, 96, 96, 128)  0           block2_conv2[0][0]               \n",
      "__________________________________________________________________________________________________\n",
      "block3_conv1 (Conv2D)           (None, 96, 96, 256)  295168      block2_pool[0][0]                \n",
      "__________________________________________________________________________________________________\n",
      "block3_conv2 (Conv2D)           (None, 96, 96, 256)  590080      block3_conv1[0][0]               \n",
      "__________________________________________________________________________________________________\n",
      "block3_conv3 (Conv2D)           (None, 96, 96, 256)  590080      block3_conv2[0][0]               \n",
      "__________________________________________________________________________________________________\n",
      "block3_pool (MaxPooling2D)      (None, 48, 48, 256)  0           block3_conv3[0][0]               \n",
      "__________________________________________________________________________________________________\n",
      "block4_conv1 (Conv2D)           (None, 48, 48, 512)  1180160     block3_pool[0][0]                \n",
      "__________________________________________________________________________________________________\n",
      "block4_conv2 (Conv2D)           (None, 48, 48, 512)  2359808     block4_conv1[0][0]               \n",
      "__________________________________________________________________________________________________\n",
      "block4_conv3 (Conv2D)           (None, 48, 48, 512)  2359808     block4_conv2[0][0]               \n",
      "__________________________________________________________________________________________________\n",
      "block4_pool (MaxPooling2D)      (None, 24, 24, 512)  0           block4_conv3[0][0]               \n",
      "__________________________________________________________________________________________________\n",
      "block5_conv1 (Conv2D)           (None, 24, 24, 512)  2359808     block4_pool[0][0]                \n",
      "__________________________________________________________________________________________________\n",
      "block5_conv2 (Conv2D)           (None, 24, 24, 512)  2359808     block5_conv1[0][0]               \n",
      "__________________________________________________________________________________________________\n",
      "block5_conv3 (Conv2D)           (None, 24, 24, 512)  2359808     block5_conv2[0][0]               \n",
      "__________________________________________________________________________________________________\n",
      "block5_pool (MaxPooling2D)      (None, 12, 12, 512)  0           block5_conv3[0][0]               \n",
      "__________________________________________________________________________________________________\n",
      "block6_conv1 (Conv2D)           (None, 12, 12, 4096) 102764544   block5_pool[0][0]                \n",
      "__________________________________________________________________________________________________\n",
      "block6_dropout1 (Dropout)       (None, 12, 12, 4096) 0           block6_conv1[0][0]               \n",
      "__________________________________________________________________________________________________\n",
      "block6_conv2 (Conv2D)           (None, 12, 12, 4096) 16781312    block6_dropout1[0][0]            \n",
      "__________________________________________________________________________________________________\n",
      "block6_dropout2 (Dropout)       (None, 12, 12, 4096) 0           block6_conv2[0][0]               \n",
      "__________________________________________________________________________________________________\n",
      "block6_conv3 (Conv2D)           (None, 12, 12, 3)    12291       block6_dropout2[0][0]            \n",
      "__________________________________________________________________________________________________\n",
      "block6_deconv1 (Conv2DTranspose (None, 24, 24, 3)    144         block6_conv3[0][0]               \n",
      "__________________________________________________________________________________________________\n",
      "block7_conv1 (Conv2D)           (None, 24, 24, 3)    1539        block4_pool[0][0]                \n",
      "__________________________________________________________________________________________________\n",
      "block7_Add (Add)                (None, 24, 24, 3)    0           block6_deconv1[0][0]             \n",
      "                                                                 block7_conv1[0][0]               \n",
      "__________________________________________________________________________________________________\n",
      "conv2d_transpose_1 (Conv2DTrans (None, 48, 48, 3)    147         block7_Add[0][0]                 \n",
      "__________________________________________________________________________________________________\n",
      "block8_conv1 (Conv2D)           (None, 48, 48, 3)    771         block3_pool[0][0]                \n",
      "__________________________________________________________________________________________________\n",
      "block8_Add (Add)                (None, 48, 48, 3)    0           conv2d_transpose_1[0][0]         \n",
      "                                                                 block8_conv1[0][0]               \n",
      "__________________________________________________________________________________________________\n",
      "block8_Deconv (Conv2DTranspose) (None, 384, 384, 3)  2307        block8_Add[0][0]                 \n",
      "__________________________________________________________________________________________________\n",
      "y_ (Activation)                 (None, 384, 384, 3)  0           block8_Deconv[0][0]              \n",
      "==================================================================================================\n",
      "Total params: 134,277,743\n",
      "Trainable params: 119,563,055\n",
      "Non-trainable params: 14,714,688\n",
      "__________________________________________________________________________________________________\n"
     ]
    }
   ],
   "source": [
    "from models.fcn8 import model_fcn8\n",
    "\n",
    "model = model_fcn8(3, image_shape=(384, 384, 3), keep_prob=0.5)\n",
    "model.summary()"
   ]
  },
  {
   "cell_type": "code",
   "execution_count": 8,
   "metadata": {
    "scrolled": true
   },
   "outputs": [],
   "source": [
    "from gen.datagen import oversample_generator_from_df, balanced_generator_from_df\n",
    "\n",
    "BATCH_SIZE = 32\n",
    "\n",
    "model_dir = '../../saved_models/fcn8/fcn8_v7/'\n",
    "\n",
    "if not os.path.exists(model_dir):\n",
    "    os.mkdir(model_dir)\n",
    "\n",
    "from skimage.io import imread\n",
    "from gen.datagen import preprocess_label\n",
    "\n",
    "weights = []\n",
    "for _, row in train_df.iterrows():\n",
    "    lbl = preprocess_label(imread(row['label']))\n",
    "    xd, yd = lbl[:, :, 0].nonzero()\n",
    "    if xd.shape[0] > 0 and yd.shape[0] > 0:\n",
    "        weights.append( 1 + (xd.max() - xd.min()) * (yd.max() - yd.min()) )\n",
    "    else:\n",
    "        weights.append(1)\n",
    "\n",
    "weights = np.array(weights)\n",
    "weights = [float(i)/sum(weights) for i in weights]\n",
    "\n",
    "train_gen = oversample_generator_from_df(train_df, BATCH_SIZE, (384, 384), weights)\n",
    "valid_gen = balanced_generator_from_df(valid_df, BATCH_SIZE, (384, 384))\n"
   ]
  },
  {
   "cell_type": "code",
   "execution_count": 9,
   "metadata": {},
   "outputs": [],
   "source": [
    "from train import iou_loss\n",
    "from keras.utils.training_utils import multi_gpu_model\n",
    "from keras.optimizers import RMSprop\n",
    "\n",
    "gpus = 2\n",
    "\n",
    "# opt = RMSprop(lr=1e-04)\n",
    "model_gpu = multi_gpu_model(model, gpus)\n",
    "model_gpu.load_weights('../../saved_models/fcn8/fcn8_v6/model.hdf5')\n",
    "model_gpu.compile(loss=iou_loss,\n",
    "              optimizer='adam',\n",
    "              metrics=['acc'])\n"
   ]
  },
  {
   "cell_type": "code",
   "execution_count": null,
   "metadata": {
    "scrolled": false
   },
   "outputs": [
    {
     "name": "stdout",
     "output_type": "stream",
     "text": [
      "WARNING:tensorflow:From /home/faisal/anaconda3/envs/ai/lib/python3.6/site-packages/tensorflow/contrib/learn/python/learn/datasets/base.py:198: retry (from tensorflow.contrib.learn.python.learn.datasets.base) is deprecated and will be removed in a future version.\n",
      "Instructions for updating:\n",
      "Use the retry module or similar alternatives.\n",
      "Epoch 1/100\n",
      "75/75 [==============================] - 75s 999ms/step - loss: 0.0089 - acc: 0.9923 - val_loss: 0.0104 - val_acc: 0.9905\n",
      "\n",
      "Epoch 00001: val_loss improved from inf to 0.01044, saving model to ../../saved_models/fcn8/fcn8_v7//model.hdf5\n",
      "Epoch 2/100\n",
      "75/75 [==============================] - 72s 957ms/step - loss: 0.0087 - acc: 0.9926 - val_loss: 0.0101 - val_acc: 0.9909\n",
      "\n",
      "Epoch 00002: val_loss improved from 0.01044 to 0.01010, saving model to ../../saved_models/fcn8/fcn8_v7//model.hdf5\n",
      "Epoch 3/100\n",
      "75/75 [==============================] - 72s 961ms/step - loss: 0.0087 - acc: 0.9926 - val_loss: 0.0103 - val_acc: 0.9906\n",
      "\n",
      "Epoch 00003: val_loss did not improve\n",
      "Epoch 4/100\n",
      "75/75 [==============================] - 71s 947ms/step - loss: 0.0085 - acc: 0.9927 - val_loss: 0.0100 - val_acc: 0.9910\n",
      "\n",
      "Epoch 00004: val_loss improved from 0.01010 to 0.01002, saving model to ../../saved_models/fcn8/fcn8_v7//model.hdf5\n",
      "Epoch 5/100\n",
      "75/75 [==============================] - 71s 944ms/step - loss: 0.0084 - acc: 0.9928 - val_loss: 0.0101 - val_acc: 0.9908\n",
      "\n",
      "Epoch 00005: val_loss did not improve\n",
      "Epoch 6/100\n",
      "75/75 [==============================] - 71s 942ms/step - loss: 0.0084 - acc: 0.9928 - val_loss: 0.0103 - val_acc: 0.9907\n",
      "\n",
      "Epoch 00006: val_loss did not improve\n",
      "Epoch 7/100\n",
      "75/75 [==============================] - 71s 945ms/step - loss: 0.0083 - acc: 0.9929 - val_loss: 0.0103 - val_acc: 0.9907\n",
      "\n",
      "Epoch 00007: val_loss did not improve\n",
      "Epoch 8/100\n",
      "75/75 [==============================] - 71s 943ms/step - loss: 0.0082 - acc: 0.9930 - val_loss: 0.0095 - val_acc: 0.9915\n",
      "\n",
      "Epoch 00008: val_loss improved from 0.01002 to 0.00955, saving model to ../../saved_models/fcn8/fcn8_v7//model.hdf5\n",
      "Epoch 9/100\n",
      "75/75 [==============================] - 71s 944ms/step - loss: 0.0083 - acc: 0.9929 - val_loss: 0.0105 - val_acc: 0.9906\n",
      "\n",
      "Epoch 00009: val_loss did not improve\n",
      "Epoch 10/100\n",
      "75/75 [==============================] - 71s 947ms/step - loss: 0.0082 - acc: 0.9931 - val_loss: 0.0098 - val_acc: 0.9912\n",
      "\n",
      "Epoch 00010: val_loss did not improve\n",
      "Epoch 11/100\n",
      "75/75 [==============================] - 71s 944ms/step - loss: 0.0082 - acc: 0.9931 - val_loss: 0.0104 - val_acc: 0.9906\n",
      "\n",
      "Epoch 00011: val_loss did not improve\n",
      "Epoch 12/100\n",
      "75/75 [==============================] - 71s 948ms/step - loss: 0.0081 - acc: 0.9931 - val_loss: 0.0099 - val_acc: 0.9911\n",
      "\n",
      "Epoch 00012: val_loss did not improve\n",
      "Epoch 13/100\n",
      "75/75 [==============================] - 71s 944ms/step - loss: 0.0081 - acc: 0.9932 - val_loss: 0.0101 - val_acc: 0.9909\n",
      "\n",
      "Epoch 00013: val_loss did not improve\n",
      "Epoch 14/100\n",
      "75/75 [==============================] - 71s 943ms/step - loss: 0.0082 - acc: 0.9931 - val_loss: 0.0104 - val_acc: 0.9906\n",
      "\n",
      "Epoch 00014: val_loss did not improve\n",
      "Epoch 15/100\n",
      "75/75 [==============================] - 70s 932ms/step - loss: 0.0081 - acc: 0.9931 - val_loss: 0.0100 - val_acc: 0.9910\n",
      "\n",
      "Epoch 00015: val_loss did not improve\n",
      "Epoch 16/100\n",
      "75/75 [==============================] - 71s 945ms/step - loss: 0.0081 - acc: 0.9932 - val_loss: 0.0098 - val_acc: 0.9912\n",
      "\n",
      "Epoch 00016: val_loss did not improve\n",
      "Epoch 17/100\n",
      "75/75 [==============================] - 70s 938ms/step - loss: 0.0081 - acc: 0.9932 - val_loss: 0.0096 - val_acc: 0.9914\n",
      "\n",
      "Epoch 00017: val_loss did not improve\n",
      "Epoch 18/100\n",
      "61/75 [=======================>......] - ETA: 12s - loss: 0.0078 - acc: 0.9934"
     ]
    }
   ],
   "source": [
    "from train import train_nn\n",
    "\n",
    "m = train_df.shape[0]\n",
    "history = train_nn(model_gpu, \n",
    "                   train_gen, \n",
    "                   valid_gen, \n",
    "                   training_size=m, \n",
    "                   batch_size=BATCH_SIZE,\n",
    "                   validation_size=valid_df.shape[0],\n",
    "                   output_path=model_dir, \n",
    "                   epochs=100,\n",
    "                  gpus = 2)"
   ]
  },
  {
   "cell_type": "code",
   "execution_count": null,
   "metadata": {
    "scrolled": true
   },
   "outputs": [],
   "source": [
    "# # summarize history for accuracy\n",
    "plt.plot(history.history['acc'])\n",
    "plt.plot(history.history['val_acc'])\n",
    "plt.title('model accuracy')\n",
    "plt.ylabel('accuracy')\n",
    "plt.xlabel('epoch')\n",
    "plt.legend(['train', 'test'], loc='upper left')\n",
    "plt.show()\n",
    "# summarize history for loss\n",
    "plt.plot(history.history['loss'])\n",
    "plt.plot(history.history['val_loss'])\n",
    "plt.title('model loss')\n",
    "plt.ylabel('loss')\n",
    "plt.xlabel('epoch')\n",
    "plt.legend(['train', 'test'], loc='upper left')\n",
    "plt.show("
   ]
  },
  {
   "cell_type": "code",
   "execution_count": 8,
   "metadata": {},
   "outputs": [],
   "source": [
    "# model_gpu.load_weights('../../saved_models/fcn8/fcn8_v6/model.hdf5')\n",
    "model.save('../../saved_models/fcn8/fcn8_v6/fcn8_v6.h5')"
   ]
  },
  {
   "cell_type": "code",
   "execution_count": null,
   "metadata": {},
   "outputs": [],
   "source": [
    "#valid_gen = train_and_lab_gen_func(valid_df, image_size=(600, 800), target_size=(480, 480), batch_size = BATCH_SIZE * gpus)\n",
    "#test_gen = train_and_lab_gen_func(test_df, image_size=(600, 800),  target_size=(480, 480),  batch_size = BATCH_SIZE * gpus)"
   ]
  }
 ],
 "metadata": {
  "kernelspec": {
   "display_name": "Python [conda env:ai]",
   "language": "python",
   "name": "conda-env-ai-py"
  },
  "language_info": {
   "codemirror_mode": {
    "name": "ipython",
    "version": 3
   },
   "file_extension": ".py",
   "mimetype": "text/x-python",
   "name": "python",
   "nbconvert_exporter": "python",
   "pygments_lexer": "ipython3",
   "version": "3.6.4"
  }
 },
 "nbformat": 4,
 "nbformat_minor": 2
}
