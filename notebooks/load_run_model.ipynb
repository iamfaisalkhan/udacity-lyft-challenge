{
 "cells": [
  {
   "cell_type": "code",
   "execution_count": 1,
   "metadata": {},
   "outputs": [
    {
     "name": "stderr",
     "output_type": "stream",
     "text": [
      "/home/faisal/anaconda3/envs/ai/lib/python3.6/site-packages/h5py/__init__.py:36: FutureWarning: Conversion of the second argument of issubdtype from `float` to `np.floating` is deprecated. In future, it will be treated as `np.float64 == np.dtype(float).type`.\n",
      "  from ._conv import register_converters as _register_converters\n",
      "Using TensorFlow backend.\n"
     ]
    }
   ],
   "source": [
    "from keras.models import Model, load_model\n",
    "from keras.layers import Dropout, Conv2D, Cropping2D, Conv2DTranspose, Add, Input, Reshape, Permute, Activation\n",
    "from keras.applications.vgg16 import VGG16, preprocess_input\n"
   ]
  },
  {
   "cell_type": "code",
   "execution_count": 2,
   "metadata": {},
   "outputs": [
    {
     "name": "stdout",
     "output_type": "stream",
     "text": [
      "__________________________________________________________________________________________________\n",
      "Layer (type)                    Output Shape         Param #     Connected to                     \n",
      "==================================================================================================\n",
      "input_1 (InputLayer)            (None, 480, 480, 3)  0                                            \n",
      "__________________________________________________________________________________________________\n",
      "block1_conv1 (Conv2D)           (None, 480, 480, 64) 1792        input_1[0][0]                    \n",
      "__________________________________________________________________________________________________\n",
      "block1_conv2 (Conv2D)           (None, 480, 480, 64) 36928       block1_conv1[0][0]               \n",
      "__________________________________________________________________________________________________\n",
      "block1_pool (MaxPooling2D)      (None, 240, 240, 64) 0           block1_conv2[0][0]               \n",
      "__________________________________________________________________________________________________\n",
      "block2_conv1 (Conv2D)           (None, 240, 240, 128 73856       block1_pool[0][0]                \n",
      "__________________________________________________________________________________________________\n",
      "block2_conv2 (Conv2D)           (None, 240, 240, 128 147584      block2_conv1[0][0]               \n",
      "__________________________________________________________________________________________________\n",
      "block2_pool (MaxPooling2D)      (None, 120, 120, 128 0           block2_conv2[0][0]               \n",
      "__________________________________________________________________________________________________\n",
      "block3_conv1 (Conv2D)           (None, 120, 120, 256 295168      block2_pool[0][0]                \n",
      "__________________________________________________________________________________________________\n",
      "block3_conv2 (Conv2D)           (None, 120, 120, 256 590080      block3_conv1[0][0]               \n",
      "__________________________________________________________________________________________________\n",
      "block3_conv3 (Conv2D)           (None, 120, 120, 256 590080      block3_conv2[0][0]               \n",
      "__________________________________________________________________________________________________\n",
      "block3_pool (MaxPooling2D)      (None, 60, 60, 256)  0           block3_conv3[0][0]               \n",
      "__________________________________________________________________________________________________\n",
      "block4_conv1 (Conv2D)           (None, 60, 60, 512)  1180160     block3_pool[0][0]                \n",
      "__________________________________________________________________________________________________\n",
      "block4_conv2 (Conv2D)           (None, 60, 60, 512)  2359808     block4_conv1[0][0]               \n",
      "__________________________________________________________________________________________________\n",
      "block4_conv3 (Conv2D)           (None, 60, 60, 512)  2359808     block4_conv2[0][0]               \n",
      "__________________________________________________________________________________________________\n",
      "block4_pool (MaxPooling2D)      (None, 30, 30, 512)  0           block4_conv3[0][0]               \n",
      "__________________________________________________________________________________________________\n",
      "block5_conv1 (Conv2D)           (None, 30, 30, 512)  2359808     block4_pool[0][0]                \n",
      "__________________________________________________________________________________________________\n",
      "block5_conv2 (Conv2D)           (None, 30, 30, 512)  2359808     block5_conv1[0][0]               \n",
      "__________________________________________________________________________________________________\n",
      "block5_conv3 (Conv2D)           (None, 30, 30, 512)  2359808     block5_conv2[0][0]               \n",
      "__________________________________________________________________________________________________\n",
      "block5_pool (MaxPooling2D)      (None, 15, 15, 512)  0           block5_conv3[0][0]               \n",
      "__________________________________________________________________________________________________\n",
      "block6_conv1 (Conv2D)           (None, 15, 15, 4096) 102764544   block5_pool[0][0]                \n",
      "__________________________________________________________________________________________________\n",
      "block6_dropout1 (Dropout)       (None, 15, 15, 4096) 0           block6_conv1[0][0]               \n",
      "__________________________________________________________________________________________________\n",
      "block6_conv2 (Conv2D)           (None, 15, 15, 4096) 16781312    block6_dropout1[0][0]            \n",
      "__________________________________________________________________________________________________\n",
      "block6_dropout2 (Dropout)       (None, 15, 15, 4096) 0           block6_conv2[0][0]               \n",
      "__________________________________________________________________________________________________\n",
      "block6_conv3 (Conv2D)           (None, 15, 15, 3)    12291       block6_dropout2[0][0]            \n",
      "__________________________________________________________________________________________________\n",
      "block6_deconv1 (Conv2DTranspose (None, 30, 30, 3)    144         block6_conv3[0][0]               \n",
      "__________________________________________________________________________________________________\n",
      "block7_conv1 (Conv2D)           (None, 30, 30, 3)    1539        block4_pool[0][0]                \n",
      "__________________________________________________________________________________________________\n",
      "block7_Add (Add)                (None, 30, 30, 3)    0           block6_deconv1[0][0]             \n",
      "                                                                 block7_conv1[0][0]               \n",
      "__________________________________________________________________________________________________\n",
      "conv2d_transpose_1 (Conv2DTrans (None, 60, 60, 3)    147         block7_Add[0][0]                 \n",
      "__________________________________________________________________________________________________\n",
      "block8_conv1 (Conv2D)           (None, 60, 60, 3)    771         block3_pool[0][0]                \n",
      "__________________________________________________________________________________________________\n",
      "block8_Add (Add)                (None, 60, 60, 3)    0           conv2d_transpose_1[0][0]         \n",
      "                                                                 block8_conv1[0][0]               \n",
      "__________________________________________________________________________________________________\n",
      "block8_Deconv (Conv2DTranspose) (None, 480, 480, 3)  2307        block8_Add[0][0]                 \n",
      "__________________________________________________________________________________________________\n",
      "activation_1 (Activation)       (None, 480, 480, 3)  0           block8_Deconv[0][0]              \n",
      "==================================================================================================\n",
      "Total params: 134,277,743\n",
      "Trainable params: 119,563,055\n",
      "Non-trainable params: 14,714,688\n",
      "__________________________________________________________________________________________________\n"
     ]
    }
   ],
   "source": [
    "base_model = VGG16(include_top=False, weights='imagenet', input_shape=(480, 480, 3))\n",
    "\n",
    "for layer in base_model.layers:\n",
    "    layer.trainable = False\n",
    "\n",
    "nClasses = 3\n",
    "\n",
    "block3_pool = base_model.get_layer('block3_pool').output\n",
    "block4_pool = base_model.get_layer('block4_pool').output\n",
    "block5_pool = base_model.get_layer('block5_pool').output\n",
    "\n",
    "conv_name_base = \"block%d_conv%d\"\n",
    "pool_name_base = \"block%d_pool\"\n",
    "dropout_name_base = \"block%d_dropout\"\n",
    "\n",
    "block = 6\n",
    "step = 1\n",
    "\n",
    "X = Conv2D(4096, (7, 7),  padding='same', activation='relu', name='block6_conv1')(block5_pool)\n",
    "X = Dropout(0.5, name='block6_dropout1')(X)\n",
    "X = Conv2D(4096, (1, 1), activation='relu', padding='same', name='block6_conv2')(X)\n",
    "X = Dropout(0.5, name='block6_dropout2')(X)\n",
    "X = Conv2D(nClasses, (1, 1), padding='same', kernel_initializer='he_normal', name='block6_conv3')(X)\n",
    "X = Conv2DTranspose(nClasses, kernel_size=(4,4), strides=(2,2) , padding='same', use_bias=False, name='block6_deconv1')(X)\n",
    "\n",
    "X2 = Conv2D(nClasses, (1, 1), kernel_initializer='he_normal', padding='same', name='block7_conv1')(block4_pool)\n",
    "# X2 = Cropping2D(cropping=((0, 1), (0, 0)))(X2)\n",
    "X = Add(name='block7_Add')([X, X2])\n",
    "X = Conv2DTranspose(nClasses, kernel_size=(4,4), strides=(2, 2), padding='same')(X)\n",
    "\n",
    "X3 = Conv2D(nClasses, (1, 1), padding='same', name='block8_conv1')(block3_pool)\n",
    "# X3 = Cropping2D(cropping=((0, 3), (0, 0)))(X3)\n",
    "X = Add(name='block8_Add')([X, X3])\n",
    "X = Conv2DTranspose(nClasses, kernel_size=(16, 16), strides=(8, 8), padding='same', name='block8_Deconv')(X)\n",
    "\n",
    "# X = (Reshape((-1, nClasses)))(X)\n",
    "X = (Activation('softmax'))(X)\n",
    "\n",
    "model = Model(inputs = [base_model.input], outputs=[X])\n",
    "model.summary()\n"
   ]
  },
  {
   "cell_type": "code",
   "execution_count": 3,
   "metadata": {},
   "outputs": [],
   "source": [
    "model.load_weights('fcn8_vgg16_weights.best.hdf5')"
   ]
  },
  {
   "cell_type": "code",
   "execution_count": 4,
   "metadata": {},
   "outputs": [],
   "source": [
    "model.save('fcn8_vgg16.model.hdf5')"
   ]
  },
  {
   "cell_type": "code",
   "execution_count": null,
   "metadata": {},
   "outputs": [],
   "source": []
  }
 ],
 "metadata": {
  "kernelspec": {
   "display_name": "Python [conda env:ai]",
   "language": "python",
   "name": "conda-env-ai-py"
  },
  "language_info": {
   "codemirror_mode": {
    "name": "ipython",
    "version": 3
   },
   "file_extension": ".py",
   "mimetype": "text/x-python",
   "name": "python",
   "nbconvert_exporter": "python",
   "pygments_lexer": "ipython3",
   "version": "3.6.4"
  }
 },
 "nbformat": 4,
 "nbformat_minor": 2
}
