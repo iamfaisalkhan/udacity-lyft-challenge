{
 "cells": [
  {
   "cell_type": "code",
   "execution_count": 3,
   "metadata": {
    "scrolled": true
   },
   "outputs": [],
   "source": [
    "import sys\n",
    "sys.path.append('../')\n",
    "\n",
    "%load_ext autoreload\n",
    "%autoreload 2\n",
    "%matplotlib inline\n"
   ]
  },
  {
   "cell_type": "code",
   "execution_count": 4,
   "metadata": {
    "scrolled": true
   },
   "outputs": [],
   "source": [
    "import numpy as np\n",
    "\n",
    "import matplotlib.image as mpimg\n",
    "import matplotlib.pyplot as plt\n",
    "\n",
    "from skimage.io import imread\n",
    "\n",
    "from gen.load_data import load_data"
   ]
  },
  {
   "cell_type": "code",
   "execution_count": 5,
   "metadata": {
    "scrolled": true
   },
   "outputs": [
    {
     "name": "stdout",
     "output_type": "stream",
     "text": [
      "                                                image                   id  \\\n",
      "3271                    ../data/Train/CameraRGB/9.png                    9   \n",
      "4789  ../data/Train/CameraRGB/episode_0008_000263.png  episode_0008_000263   \n",
      "4432  ../data/Train/CameraRGB/episode_0004_000036.png  episode_0004_000036   \n",
      "2097  ../data/Train/CameraRGB/episode_0013_000283.png  episode_0013_000283   \n",
      "2763  ../data/Train/CameraRGB/episode_0007_000118.png  episode_0007_000118   \n",
      "\n",
      "                                                label  \n",
      "3271                    ../data/Train/CameraSeg/9.png  \n",
      "4789  ../data/Train/CameraSeg/episode_0008_000263.png  \n",
      "4432  ../data/Train/CameraSeg/episode_0004_000036.png  \n",
      "2097  ../data/Train/CameraSeg/episode_0013_000283.png  \n",
      "2763  ../data/Train/CameraSeg/episode_0007_000118.png  \n"
     ]
    }
   ],
   "source": [
    "from sklearn.utils import shuffle\n",
    "\n",
    "train_df, valid_df, test_df = load_data('../data')\n",
    "\n",
    "train_df = shuffle(train_df)\n",
    "valid_df = shuffle(valid_df)\n",
    "\n",
    "print(train_df.head())\n"
   ]
  },
  {
   "cell_type": "code",
   "execution_count": 6,
   "metadata": {
    "scrolled": false
   },
   "outputs": [
    {
     "name": "stderr",
     "output_type": "stream",
     "text": [
      "/home/faisal/anaconda3/envs/ai/lib/python3.6/site-packages/h5py/__init__.py:36: FutureWarning: Conversion of the second argument of issubdtype from `float` to `np.floating` is deprecated. In future, it will be treated as `np.float64 == np.dtype(float).type`.\n",
      "  from ._conv import register_converters as _register_converters\n",
      "Using TensorFlow backend.\n"
     ]
    },
    {
     "name": "stdout",
     "output_type": "stream",
     "text": [
      "__________________________________________________________________________________________________\n",
      "Layer (type)                    Output Shape         Param #     Connected to                     \n",
      "==================================================================================================\n",
      "input_1 (InputLayer)            (None, 480, 480, 3)  0                                            \n",
      "__________________________________________________________________________________________________\n",
      "block1_conv1 (Conv2D)           (None, 480, 480, 64) 1792        input_1[0][0]                    \n",
      "__________________________________________________________________________________________________\n",
      "block1_conv2 (Conv2D)           (None, 480, 480, 64) 36928       block1_conv1[0][0]               \n",
      "__________________________________________________________________________________________________\n",
      "block1_pool (MaxPooling2D)      (None, 240, 240, 64) 0           block1_conv2[0][0]               \n",
      "__________________________________________________________________________________________________\n",
      "block2_conv1 (Conv2D)           (None, 240, 240, 128 73856       block1_pool[0][0]                \n",
      "__________________________________________________________________________________________________\n",
      "block2_conv2 (Conv2D)           (None, 240, 240, 128 147584      block2_conv1[0][0]               \n",
      "__________________________________________________________________________________________________\n",
      "block2_pool (MaxPooling2D)      (None, 120, 120, 128 0           block2_conv2[0][0]               \n",
      "__________________________________________________________________________________________________\n",
      "block3_conv1 (Conv2D)           (None, 120, 120, 256 295168      block2_pool[0][0]                \n",
      "__________________________________________________________________________________________________\n",
      "block3_conv2 (Conv2D)           (None, 120, 120, 256 590080      block3_conv1[0][0]               \n",
      "__________________________________________________________________________________________________\n",
      "block3_conv3 (Conv2D)           (None, 120, 120, 256 590080      block3_conv2[0][0]               \n",
      "__________________________________________________________________________________________________\n",
      "block3_pool (MaxPooling2D)      (None, 60, 60, 256)  0           block3_conv3[0][0]               \n",
      "__________________________________________________________________________________________________\n",
      "block4_conv1 (Conv2D)           (None, 60, 60, 512)  1180160     block3_pool[0][0]                \n",
      "__________________________________________________________________________________________________\n",
      "block4_conv2 (Conv2D)           (None, 60, 60, 512)  2359808     block4_conv1[0][0]               \n",
      "__________________________________________________________________________________________________\n",
      "block4_conv3 (Conv2D)           (None, 60, 60, 512)  2359808     block4_conv2[0][0]               \n",
      "__________________________________________________________________________________________________\n",
      "block4_pool (MaxPooling2D)      (None, 30, 30, 512)  0           block4_conv3[0][0]               \n",
      "__________________________________________________________________________________________________\n",
      "block5_conv1 (Conv2D)           (None, 30, 30, 512)  2359808     block4_pool[0][0]                \n",
      "__________________________________________________________________________________________________\n",
      "block5_conv2 (Conv2D)           (None, 30, 30, 512)  2359808     block5_conv1[0][0]               \n",
      "__________________________________________________________________________________________________\n",
      "block5_conv3 (Conv2D)           (None, 30, 30, 512)  2359808     block5_conv2[0][0]               \n",
      "__________________________________________________________________________________________________\n",
      "block5_pool (MaxPooling2D)      (None, 15, 15, 512)  0           block5_conv3[0][0]               \n",
      "__________________________________________________________________________________________________\n",
      "block6_conv1 (Conv2D)           (None, 15, 15, 4096) 102764544   block5_pool[0][0]                \n",
      "__________________________________________________________________________________________________\n",
      "block6_dropout1 (Dropout)       (None, 15, 15, 4096) 0           block6_conv1[0][0]               \n",
      "__________________________________________________________________________________________________\n",
      "block6_conv2 (Conv2D)           (None, 15, 15, 4096) 16781312    block6_dropout1[0][0]            \n",
      "__________________________________________________________________________________________________\n",
      "block6_dropout2 (Dropout)       (None, 15, 15, 4096) 0           block6_conv2[0][0]               \n",
      "__________________________________________________________________________________________________\n",
      "block6_conv3 (Conv2D)           (None, 15, 15, 3)    12291       block6_dropout2[0][0]            \n",
      "__________________________________________________________________________________________________\n",
      "block6_deconv1 (Conv2DTranspose (None, 30, 30, 3)    144         block6_conv3[0][0]               \n",
      "__________________________________________________________________________________________________\n",
      "block7_conv1 (Conv2D)           (None, 30, 30, 3)    1539        block4_pool[0][0]                \n",
      "__________________________________________________________________________________________________\n",
      "block7_Add (Add)                (None, 30, 30, 3)    0           block6_deconv1[0][0]             \n",
      "                                                                 block7_conv1[0][0]               \n",
      "__________________________________________________________________________________________________\n",
      "conv2d_transpose_1 (Conv2DTrans (None, 60, 60, 3)    147         block7_Add[0][0]                 \n",
      "__________________________________________________________________________________________________\n",
      "block8_conv1 (Conv2D)           (None, 60, 60, 3)    771         block3_pool[0][0]                \n",
      "__________________________________________________________________________________________________\n",
      "block8_Add (Add)                (None, 60, 60, 3)    0           conv2d_transpose_1[0][0]         \n",
      "                                                                 block8_conv1[0][0]               \n",
      "__________________________________________________________________________________________________\n",
      "block8_Deconv (Conv2DTranspose) (None, 480, 480, 3)  2307        block8_Add[0][0]                 \n",
      "__________________________________________________________________________________________________\n",
      "y_ (Activation)                 (None, 480, 480, 3)  0           block8_Deconv[0][0]              \n",
      "==================================================================================================\n",
      "Total params: 134,277,743\n",
      "Trainable params: 119,563,055\n",
      "Non-trainable params: 14,714,688\n",
      "__________________________________________________________________________________________________\n"
     ]
    }
   ],
   "source": [
    "from models.fcn8 import model_fcn8\n",
    "\n",
    "model = model_fcn8(3, image_shape=(480, 480, 3), keep_prob=0.5)\n",
    "model.summary()"
   ]
  },
  {
   "cell_type": "code",
   "execution_count": 7,
   "metadata": {},
   "outputs": [
    {
     "ename": "ValueError",
     "evalue": "You are trying to load a weight file containing 1 layers into a model with 21 layers.",
     "output_type": "error",
     "traceback": [
      "\u001b[0;31m---------------------------------------------------------------------------\u001b[0m",
      "\u001b[0;31mValueError\u001b[0m                                Traceback (most recent call last)",
      "\u001b[0;32m<ipython-input-7-2ab595e6d11b>\u001b[0m in \u001b[0;36m<module>\u001b[0;34m()\u001b[0m\n\u001b[0;32m----> 1\u001b[0;31m \u001b[0mmodel\u001b[0m\u001b[0;34m.\u001b[0m\u001b[0mload_weights\u001b[0m\u001b[0;34m(\u001b[0m\u001b[0;34m'../saved_models/fcn8_extended_training/model.hdf5'\u001b[0m\u001b[0;34m)\u001b[0m\u001b[0;34m\u001b[0m\u001b[0m\n\u001b[0m",
      "\u001b[0;32m~/anaconda3/envs/ai/lib/python3.6/site-packages/keras/engine/topology.py\u001b[0m in \u001b[0;36mload_weights\u001b[0;34m(self, filepath, by_name, skip_mismatch, reshape)\u001b[0m\n\u001b[1;32m   2650\u001b[0m             \u001b[0;32melse\u001b[0m\u001b[0;34m:\u001b[0m\u001b[0;34m\u001b[0m\u001b[0m\n\u001b[1;32m   2651\u001b[0m                 load_weights_from_hdf5_group(\n\u001b[0;32m-> 2652\u001b[0;31m                     f, self.layers, reshape=reshape)\n\u001b[0m\u001b[1;32m   2653\u001b[0m \u001b[0;34m\u001b[0m\u001b[0m\n\u001b[1;32m   2654\u001b[0m     \u001b[0;32mdef\u001b[0m \u001b[0m_updated_config\u001b[0m\u001b[0;34m(\u001b[0m\u001b[0mself\u001b[0m\u001b[0;34m)\u001b[0m\u001b[0;34m:\u001b[0m\u001b[0;34m\u001b[0m\u001b[0m\n",
      "\u001b[0;32m~/anaconda3/envs/ai/lib/python3.6/site-packages/keras/engine/topology.py\u001b[0m in \u001b[0;36mload_weights_from_hdf5_group\u001b[0;34m(f, layers, reshape)\u001b[0m\n\u001b[1;32m   3159\u001b[0m                          \u001b[0;34m'containing '\u001b[0m \u001b[0;34m+\u001b[0m \u001b[0mstr\u001b[0m\u001b[0;34m(\u001b[0m\u001b[0mlen\u001b[0m\u001b[0;34m(\u001b[0m\u001b[0mlayer_names\u001b[0m\u001b[0;34m)\u001b[0m\u001b[0;34m)\u001b[0m \u001b[0;34m+\u001b[0m\u001b[0;34m\u001b[0m\u001b[0m\n\u001b[1;32m   3160\u001b[0m                          \u001b[0;34m' layers into a model with '\u001b[0m \u001b[0;34m+\u001b[0m\u001b[0;34m\u001b[0m\u001b[0m\n\u001b[0;32m-> 3161\u001b[0;31m                          str(len(filtered_layers)) + ' layers.')\n\u001b[0m\u001b[1;32m   3162\u001b[0m \u001b[0;34m\u001b[0m\u001b[0m\n\u001b[1;32m   3163\u001b[0m     \u001b[0;31m# We batch weight value assignments in a single backend call\u001b[0m\u001b[0;34m\u001b[0m\u001b[0;34m\u001b[0m\u001b[0m\n",
      "\u001b[0;31mValueError\u001b[0m: You are trying to load a weight file containing 1 layers into a model with 21 layers."
     ]
    }
   ],
   "source": [
    "model.load_weights('../saved_models/fcn8_extended_training/model.hdf5')"
   ]
  },
  {
   "cell_type": "code",
   "execution_count": 8,
   "metadata": {
    "scrolled": true
   },
   "outputs": [],
   "source": [
    "from gen.generators import train_and_lab_gen_func, test_and_lab_gen_func\n",
    "\n",
    "BATCH_SIZE = 32\n",
    "model_dir = '../saved_models/fcn8_extended_training/'\n",
    "\n",
    "train_gen = train_and_lab_gen_func(train_df, image_size=(600, 800), target_size=(480, 480), batch_size = BATCH_SIZE)\n",
    "valid_gen = test_and_lab_gen_func(valid_df, image_size=(600, 800), target_size=(480, 480), batch_size = BATCH_SIZE)\n",
    "# test_gen = train_and_lab_gen_func(test_df, image_size=(600, 800),  target_size=(480, 480),  batch_size = BATCH_SIZE)"
   ]
  },
  {
   "cell_type": "code",
   "execution_count": 9,
   "metadata": {},
   "outputs": [],
   "source": [
    "from train import weighted_categorical_crossentropy\n",
    "from keras.utils.training_utils import multi_gpu_model\n",
    "\n",
    "weights = np.array([10, 5, 1])\n",
    "\n",
    "gpus = 2\n",
    "\n",
    "model_gpu = multi_gpu_model(model, gpus)\n",
    "model_gpu.load_weights('../saved_models/fcn8_extended_training/model.hdf5')\n",
    "model_gpu.compile(loss=weighted_categorical_crossentropy(weights),\n",
    "              optimizer='adam',\n",
    "              metrics=['accuracy'])\n"
   ]
  },
  {
   "cell_type": "code",
   "execution_count": null,
   "metadata": {
    "scrolled": false
   },
   "outputs": [
    {
     "name": "stderr",
     "output_type": "stream",
     "text": [
      "/home/faisal/anaconda3/envs/ai/lib/python3.6/site-packages/keras/engine/training.py:2095: UserWarning: Using a generator with `use_multiprocessing=True` and multiple workers may duplicate your data. Please consider using the`keras.utils.Sequence class.\n",
      "  UserWarning('Using a generator with `use_multiprocessing=True`'\n"
     ]
    },
    {
     "name": "stdout",
     "output_type": "stream",
     "text": [
      "## Ignore next message from keras, values are replaced anyways\n",
      "## Ignore next message from keras, values are replaced anyways\n",
      "Found 0 images belonging to 0 classes.\n",
      "## Ignore next message from keras, values are replaced anyways\n",
      "Found 0 images belonging to 0 classes.\n",
      "Found 0 images belonging to 0 classes.\n",
      "## Ignore next message from keras, values are replaced anyways\n",
      "Found 0 images belonging to 0 classes.\n",
      "## Ignore next message from keras, values are replaced anyways\n",
      "## Ignore next message from keras, values are replaced anyways\n",
      "Reinserting dataframe: 500 images\n",
      "## Ignore next message from keras, values are replaced anyways\n",
      "Found 0 images belonging to 0 classes.\n",
      "## Ignore next message from keras, values are replaced anyways\n",
      "Reinserting dataframe: 500 images\n",
      "## Ignore next message from keras, values are replaced anyways\n",
      "Found 0 images belonging to 0 classes.\n",
      "## Ignore next message from keras, values are replaced anyways\n",
      "Reinserting dataframe: 500 images\n",
      "## Ignore next message from keras, values are replaced anyways\n",
      "Found 0 images belonging to 0 classes.\n",
      "Reinserting dataframe: 500 images\n",
      "## Ignore next message from keras, values are replaced anyways\n",
      "Found 0 images belonging to 0 classes.\n",
      "Found 0 images belonging to 0 classes.\n",
      "Found 0 images belonging to 0 classes.\n",
      "Found 0 images belonging to 0 classes.\n",
      "Found 0 images belonging to 0 classes.\n",
      "Reinserting dataframe: 500 images\n",
      "Reinserting dataframe: 500 images\n",
      "Reinserting dataframe: 500 images\n",
      "Reinserting dataframe: 500 images\n",
      "Reinserting dataframe: 4822 images\n",
      "Reinserting dataframe: 4822 images\n",
      "Reinserting dataframe: 4822 images\n",
      "Reinserting dataframe: 4822 images\n",
      "## Ignore next message from keras, values are replaced anyways\n",
      "## Ignore next message from keras, values are replaced anyways\n",
      "## Ignore next message from keras, values are replaced anyways\n",
      "## Ignore next message from keras, values are replaced anyways\n",
      "Epoch 1/50\n",
      "Found 0 images belonging to 0 classes.\n",
      "Found 0 images belonging to 0 classes.\n",
      "Found 0 images belonging to 0 classes.\n",
      "Found 0 images belonging to 0 classes.\n",
      "Reinserting dataframe: 4822 images\n",
      "Reinserting dataframe: 4822 images\n",
      "Reinserting dataframe: 4822 images\n",
      "Reinserting dataframe: 4822 images\n",
      "75/75 [==============================] - 209s 3s/step - loss: 0.5011 - acc: 0.9802 - val_loss: 0.5811 - val_acc: 0.9806\n",
      "\n",
      "Epoch 00001: val_loss improved from inf to 0.58106, saving model to ../saved_models/fcn8_extended_training//model.hdf5\n",
      "Epoch 2/50\n",
      "75/75 [==============================] - 173s 2s/step - loss: 0.4074 - acc: 0.9810 - val_loss: 0.5347 - val_acc: 0.9812\n",
      "\n",
      "Epoch 00002: val_loss improved from 0.58106 to 0.53474, saving model to ../saved_models/fcn8_extended_training//model.hdf5\n",
      "Epoch 3/50\n",
      "75/75 [==============================] - 183s 2s/step - loss: 0.3474 - acc: 0.9813 - val_loss: 0.3724 - val_acc: 0.9831\n",
      "\n",
      "Epoch 00003: val_loss improved from 0.53474 to 0.37241, saving model to ../saved_models/fcn8_extended_training//model.hdf5\n",
      "Epoch 4/50\n",
      "75/75 [==============================] - 177s 2s/step - loss: 0.2624 - acc: 0.9822 - val_loss: 0.3242 - val_acc: 0.9798\n",
      "\n",
      "Epoch 00004: val_loss improved from 0.37241 to 0.32419, saving model to ../saved_models/fcn8_extended_training//model.hdf5\n",
      "Epoch 5/50\n",
      "75/75 [==============================] - 177s 2s/step - loss: 0.1972 - acc: 0.9835 - val_loss: 0.2345 - val_acc: 0.9855\n",
      "\n",
      "Epoch 00005: val_loss improved from 0.32419 to 0.23450, saving model to ../saved_models/fcn8_extended_training//model.hdf5\n",
      "Epoch 6/50\n",
      "75/75 [==============================] - 175s 2s/step - loss: 0.1561 - acc: 0.9840 - val_loss: 0.1971 - val_acc: 0.9833\n",
      "\n",
      "Epoch 00006: val_loss improved from 0.23450 to 0.19709, saving model to ../saved_models/fcn8_extended_training//model.hdf5\n",
      "Epoch 7/50\n",
      "75/75 [==============================] - 174s 2s/step - loss: 0.1326 - acc: 0.9842 - val_loss: 0.1912 - val_acc: 0.9851\n",
      "\n",
      "Epoch 00007: val_loss improved from 0.19709 to 0.19119, saving model to ../saved_models/fcn8_extended_training//model.hdf5\n",
      "Epoch 8/50\n",
      "75/75 [==============================] - 177s 2s/step - loss: 0.1201 - acc: 0.9843 - val_loss: 0.1831 - val_acc: 0.9842\n",
      "\n",
      "Epoch 00008: val_loss improved from 0.19119 to 0.18313, saving model to ../saved_models/fcn8_extended_training//model.hdf5\n",
      "Epoch 9/50\n",
      "75/75 [==============================] - 180s 2s/step - loss: 0.1058 - acc: 0.9848 - val_loss: 0.1542 - val_acc: 0.9854\n",
      "\n",
      "Epoch 00009: val_loss improved from 0.18313 to 0.15421, saving model to ../saved_models/fcn8_extended_training//model.hdf5\n",
      "Epoch 10/50\n",
      "75/75 [==============================] - 207s 3s/step - loss: 0.0933 - acc: 0.9851 - val_loss: 0.1421 - val_acc: 0.9869\n",
      "\n",
      "Epoch 00010: val_loss improved from 0.15421 to 0.14210, saving model to ../saved_models/fcn8_extended_training//model.hdf5\n",
      "Epoch 11/50\n",
      "75/75 [==============================] - 193s 3s/step - loss: 0.0899 - acc: 0.9850 - val_loss: 0.1363 - val_acc: 0.9849\n",
      "\n",
      "Epoch 00011: val_loss improved from 0.14210 to 0.13634, saving model to ../saved_models/fcn8_extended_training//model.hdf5\n",
      "Epoch 12/50\n",
      "75/75 [==============================] - 186s 2s/step - loss: 0.0878 - acc: 0.9851 - val_loss: 0.1335 - val_acc: 0.9873\n",
      "\n",
      "Epoch 00012: val_loss improved from 0.13634 to 0.13355, saving model to ../saved_models/fcn8_extended_training//model.hdf5\n",
      "Epoch 13/50\n",
      "75/75 [==============================] - 183s 2s/step - loss: 0.0829 - acc: 0.9854 - val_loss: 0.1263 - val_acc: 0.9866\n",
      "\n",
      "Epoch 00013: val_loss improved from 0.13355 to 0.12634, saving model to ../saved_models/fcn8_extended_training//model.hdf5\n",
      "Epoch 14/50\n",
      "75/75 [==============================] - 183s 2s/step - loss: 0.0819 - acc: 0.9852 - val_loss: 0.1243 - val_acc: 0.9864\n",
      "\n",
      "Epoch 00014: val_loss improved from 0.12634 to 0.12430, saving model to ../saved_models/fcn8_extended_training//model.hdf5\n",
      "Epoch 15/50\n",
      "61/75 [=======================>......] - ETA: 30s - loss: 0.0784 - acc: 0.9855"
     ]
    }
   ],
   "source": [
    "from train import train_nn\n",
    "\n",
    "m = train_df.shape[0]\n",
    "history = train_nn(model_gpu, \n",
    "                   train_gen, \n",
    "                   valid_gen, \n",
    "                   training_size=m, \n",
    "                   batch_size=BATCH_SIZE,\n",
    "                   validation_size=valid_df.shape[0],\n",
    "                   output_path=model_dir, \n",
    "                   epochs=50,\n",
    "                  gpus = 2)"
   ]
  },
  {
   "cell_type": "code",
   "execution_count": 9,
   "metadata": {
    "scrolled": true
   },
   "outputs": [
    {
     "data": {
      "image/png": "[encoded data removed]",
      "text/plain": [
       "<Figure size 432x288 with 1 Axes>"
      ]
     },
     "metadata": {},
     "output_type": "display_data"
    },
    {
     "data": {
      "image/png": "[encoded data removed]",
      "text/plain": [
       "<Figure size 432x288 with 1 Axes>"
      ]
     },
     "metadata": {},
     "output_type": "display_data"
    }
   ],
   "source": [
    "# # summarize history for accuracy\n",
    "plt.plot(history.history['acc'])\n",
    "plt.plot(history.history['val_acc'])\n",
    "plt.title('model accuracy')\n",
    "plt.ylabel('accuracy')\n",
    "plt.xlabel('epoch')\n",
    "plt.legend(['train', 'test'], loc='upper left')\n",
    "plt.show()\n",
    "# summarize history for loss\n",
    "plt.plot(history.history['loss'])\n",
    "plt.plot(history.history['val_loss'])\n",
    "plt.title('model loss')\n",
    "plt.ylabel('loss')\n",
    "plt.xlabel('epoch')\n",
    "plt.legend(['train', 'test'], loc='upper left')\n",
    "plt.show()"
   ]
  },
  {
   "cell_type": "code",
   "execution_count": 10,
   "metadata": {},
   "outputs": [],
   "source": [
    "model.save('../saved_models/fcn8_extended_training/model_saved.h5')"
   ]
  },
  {
   "cell_type": "code",
   "execution_count": null,
   "metadata": {},
   "outputs": [],
   "source": [
    "#valid_gen = train_and_lab_gen_func(valid_df, image_size=(600, 800), target_size=(480, 480), batch_size = BATCH_SIZE * gpus)\n",
    "#test_gen = train_and_lab_gen_func(test_df, image_size=(600, 800),  target_size=(480, 480),  batch_size = BATCH_SIZE * gpus)"
   ]
  }
 ],
 "metadata": {
  "kernelspec": {
   "display_name": "Python [conda env:ai]",
   "language": "python",
   "name": "conda-env-ai-py"
  }
 },
 "nbformat": 4,
 "nbformat_minor": 2
}
